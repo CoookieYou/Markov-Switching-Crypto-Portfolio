{
 "cells": [
  {
   "cell_type": "markdown",
   "metadata": {},
   "source": [
    "# Backtest Strategy\n",
    "* Use bt for event-driven backtest"
   ]
  },
  {
   "cell_type": "code",
   "execution_count": 5,
   "metadata": {},
   "outputs": [],
   "source": [
    "import pandas as pd\n",
    "import numpy as np\n",
    "import matplotlib\n",
    "%matplotlib inline\n",
    "import matplotlib.pyplot as plt\n",
    "import seaborn as sns\n",
    "from tqdm import tqdm\n",
    "\n",
    "from feature_engineering import Indicators\n",
    "from portfolio_optimizer import portfolio_optimizer\n",
    "from data_sampler import data_manager\n",
    "from random_forest import random_forest\n",
    "from test_indicators import TestIndicators\n",
    "import bt"
   ]
  },
  {
   "cell_type": "markdown",
   "metadata": {},
   "source": [
    "### Read Data"
   ]
  },
  {
   "cell_type": "code",
   "execution_count": 6,
   "metadata": {},
   "outputs": [
    {
     "name": "stdout",
     "output_type": "stream",
     "text": [
      "Pairs:  ['BTCUSD', 'ETHUSD', 'BATUSD', 'FILUSD', 'MKRUSD', 'UNIUSD', 'ZRXUSD']\n",
      "Pairs:  ['BTCUSD', 'ETHUSD', 'BATUSD', 'FILUSD', 'MKRUSD', 'UNIUSD', 'ZRXUSD']\n"
     ]
    },
    {
     "data": {
      "text/html": [
       "<div>\n",
       "<style scoped>\n",
       "    .dataframe tbody tr th:only-of-type {\n",
       "        vertical-align: middle;\n",
       "    }\n",
       "\n",
       "    .dataframe tbody tr th {\n",
       "        vertical-align: top;\n",
       "    }\n",
       "\n",
       "    .dataframe thead th {\n",
       "        text-align: right;\n",
       "    }\n",
       "</style>\n",
       "<table border=\"1\" class=\"dataframe\">\n",
       "  <thead>\n",
       "    <tr style=\"text-align: right;\">\n",
       "      <th></th>\n",
       "      <th></th>\n",
       "      <th>open</th>\n",
       "      <th>high</th>\n",
       "      <th>low</th>\n",
       "      <th>close</th>\n",
       "      <th>volume</th>\n",
       "    </tr>\n",
       "    <tr>\n",
       "      <th></th>\n",
       "      <th>date</th>\n",
       "      <th></th>\n",
       "      <th></th>\n",
       "      <th></th>\n",
       "      <th></th>\n",
       "      <th></th>\n",
       "    </tr>\n",
       "  </thead>\n",
       "  <tbody>\n",
       "    <tr>\n",
       "      <th rowspan=\"5\" valign=\"top\">BTCUSD</th>\n",
       "      <th>2020-11-01 00:00:00</th>\n",
       "      <td>13809.43</td>\n",
       "      <td>13903.45</td>\n",
       "      <td>13695.91</td>\n",
       "      <td>13750.61</td>\n",
       "      <td>49.649784</td>\n",
       "    </tr>\n",
       "    <tr>\n",
       "      <th>2020-11-01 01:00:00</th>\n",
       "      <td>13750.61</td>\n",
       "      <td>13792.38</td>\n",
       "      <td>13731.44</td>\n",
       "      <td>13782.02</td>\n",
       "      <td>22.828585</td>\n",
       "    </tr>\n",
       "    <tr>\n",
       "      <th>2020-11-01 02:00:00</th>\n",
       "      <td>13782.02</td>\n",
       "      <td>13792.38</td>\n",
       "      <td>13712.43</td>\n",
       "      <td>13731.35</td>\n",
       "      <td>29.382116</td>\n",
       "    </tr>\n",
       "    <tr>\n",
       "      <th>2020-11-01 03:00:00</th>\n",
       "      <td>13731.35</td>\n",
       "      <td>13751.52</td>\n",
       "      <td>13663.21</td>\n",
       "      <td>13707.80</td>\n",
       "      <td>17.133026</td>\n",
       "    </tr>\n",
       "    <tr>\n",
       "      <th>2020-11-01 04:00:00</th>\n",
       "      <td>13707.80</td>\n",
       "      <td>13715.31</td>\n",
       "      <td>13634.26</td>\n",
       "      <td>13694.08</td>\n",
       "      <td>22.791535</td>\n",
       "    </tr>\n",
       "  </tbody>\n",
       "</table>\n",
       "</div>"
      ],
      "text/plain": [
       "                                open      high       low     close     volume\n",
       "       date                                                                  \n",
       "BTCUSD 2020-11-01 00:00:00  13809.43  13903.45  13695.91  13750.61  49.649784\n",
       "       2020-11-01 01:00:00  13750.61  13792.38  13731.44  13782.02  22.828585\n",
       "       2020-11-01 02:00:00  13782.02  13792.38  13712.43  13731.35  29.382116\n",
       "       2020-11-01 03:00:00  13731.35  13751.52  13663.21  13707.80  17.133026\n",
       "       2020-11-01 04:00:00  13707.80  13715.31  13634.26  13694.08  22.791535"
      ]
     },
     "execution_count": 6,
     "metadata": {},
     "output_type": "execute_result"
    }
   ],
   "source": [
    "# read data from local file\n",
    "# split into modeling set and backtest sets\n",
    "data_model = data_manager().readPair(pairs = \"BTCUSD ETHUSD BATUSD FILUSD MKRUSD UNIUSD ZRXUSD\",\n",
    "                               start='2020-11-01', end='2021-08-31')\n",
    "data_bt = data_manager().readPair(pairs = \"BTCUSD ETHUSD BATUSD FILUSD MKRUSD UNIUSD ZRXUSD\",\n",
    "                               start='2021-09-01', end='2021-12-31')\n",
    "data_model.head()"
   ]
  },
  {
   "cell_type": "code",
   "execution_count": 7,
   "metadata": {},
   "outputs": [
    {
     "data": {
      "text/plain": [
       "dict_keys(['BATUSD', 'BTCUSD', 'ETHUSD', 'FILUSD', 'MKRUSD', 'UNIUSD', 'ZRXUSD'])"
      ]
     },
     "execution_count": 7,
     "metadata": {},
     "output_type": "execute_result"
    }
   ],
   "source": [
    "# Cusum filter to sample data points\n",
    "# threshold\n",
    "threshold = 0.02\n",
    "closes = data_model.reset_index(level=0).pivot(columns='level_0', values='close')\n",
    "\n",
    "# sampling process\n",
    "samples = data_manager().cusumFilter(closes.pct_change().dropna(), h = threshold)\n",
    "samples.keys()"
   ]
  },
  {
   "cell_type": "code",
   "execution_count": 8,
   "metadata": {},
   "outputs": [
    {
     "data": {
      "text/html": [
       "<div>\n",
       "<style scoped>\n",
       "    .dataframe tbody tr th:only-of-type {\n",
       "        vertical-align: middle;\n",
       "    }\n",
       "\n",
       "    .dataframe tbody tr th {\n",
       "        vertical-align: top;\n",
       "    }\n",
       "\n",
       "    .dataframe thead th {\n",
       "        text-align: right;\n",
       "    }\n",
       "</style>\n",
       "<table border=\"1\" class=\"dataframe\">\n",
       "  <thead>\n",
       "    <tr style=\"text-align: right;\">\n",
       "      <th></th>\n",
       "      <th>count</th>\n",
       "    </tr>\n",
       "  </thead>\n",
       "  <tbody>\n",
       "    <tr>\n",
       "      <th>BATUSD</th>\n",
       "      <td>2933</td>\n",
       "    </tr>\n",
       "    <tr>\n",
       "      <th>BTCUSD</th>\n",
       "      <td>1436</td>\n",
       "    </tr>\n",
       "    <tr>\n",
       "      <th>ETHUSD</th>\n",
       "      <td>2041</td>\n",
       "    </tr>\n",
       "    <tr>\n",
       "      <th>FILUSD</th>\n",
       "      <td>2065</td>\n",
       "    </tr>\n",
       "    <tr>\n",
       "      <th>MKRUSD</th>\n",
       "      <td>2557</td>\n",
       "    </tr>\n",
       "    <tr>\n",
       "      <th>UNIUSD</th>\n",
       "      <td>3035</td>\n",
       "    </tr>\n",
       "    <tr>\n",
       "      <th>ZRXUSD</th>\n",
       "      <td>3050</td>\n",
       "    </tr>\n",
       "  </tbody>\n",
       "</table>\n",
       "</div>"
      ],
      "text/plain": [
       "        count\n",
       "BATUSD   2933\n",
       "BTCUSD   1436\n",
       "ETHUSD   2041\n",
       "FILUSD   2065\n",
       "MKRUSD   2557\n",
       "UNIUSD   3035\n",
       "ZRXUSD   3050"
      ]
     },
     "execution_count": 8,
     "metadata": {},
     "output_type": "execute_result"
    }
   ],
   "source": [
    "pd.DataFrame([len(samples[i]) for i in samples], index = samples.keys(), columns=['count'])"
   ]
  },
  {
   "cell_type": "markdown",
   "metadata": {},
   "source": [
    "### Generate Features\n",
    "* Prediction target is the return of the next hourly bar"
   ]
  },
  {
   "cell_type": "code",
   "execution_count": 9,
   "metadata": {},
   "outputs": [
    {
     "data": {
      "text/html": [
       "<div>\n",
       "<style scoped>\n",
       "    .dataframe tbody tr th:only-of-type {\n",
       "        vertical-align: middle;\n",
       "    }\n",
       "\n",
       "    .dataframe tbody tr th {\n",
       "        vertical-align: top;\n",
       "    }\n",
       "\n",
       "    .dataframe thead th {\n",
       "        text-align: right;\n",
       "    }\n",
       "</style>\n",
       "<table border=\"1\" class=\"dataframe\">\n",
       "  <thead>\n",
       "    <tr style=\"text-align: right;\">\n",
       "      <th></th>\n",
       "      <th></th>\n",
       "      <th>ADX</th>\n",
       "      <th>CCI</th>\n",
       "      <th>MACD</th>\n",
       "      <th>MOM</th>\n",
       "      <th>RSI</th>\n",
       "      <th>WILLR</th>\n",
       "      <th>OBV</th>\n",
       "      <th>Regression</th>\n",
       "      <th>Volatility</th>\n",
       "      <th>Return</th>\n",
       "    </tr>\n",
       "  </thead>\n",
       "  <tbody>\n",
       "    <tr>\n",
       "      <th rowspan=\"5\" valign=\"top\">ZRXUSD</th>\n",
       "      <th>2021-08-31 16:00:00</th>\n",
       "      <td>-1.229295</td>\n",
       "      <td>55.308290</td>\n",
       "      <td>0.000374</td>\n",
       "      <td>-0.028487</td>\n",
       "      <td>-0.308111</td>\n",
       "      <td>-4.960901</td>\n",
       "      <td>-817.377805</td>\n",
       "      <td>-0.000633</td>\n",
       "      <td>0.000219</td>\n",
       "      <td>-0.031127</td>\n",
       "    </tr>\n",
       "    <tr>\n",
       "      <th>2021-08-31 17:00:00</th>\n",
       "      <td>1.617878</td>\n",
       "      <td>-233.488907</td>\n",
       "      <td>-0.002047</td>\n",
       "      <td>-0.020999</td>\n",
       "      <td>-12.906242</td>\n",
       "      <td>-86.915152</td>\n",
       "      <td>-24675.373065</td>\n",
       "      <td>-0.000988</td>\n",
       "      <td>0.005632</td>\n",
       "      <td>0.012682</td>\n",
       "    </tr>\n",
       "    <tr>\n",
       "      <th>2021-08-31 18:00:00</th>\n",
       "      <td>1.574198</td>\n",
       "      <td>3.088088</td>\n",
       "      <td>-0.000474</td>\n",
       "      <td>0.004499</td>\n",
       "      <td>5.266338</td>\n",
       "      <td>34.330896</td>\n",
       "      <td>2736.395830</td>\n",
       "      <td>-0.000385</td>\n",
       "      <td>-0.000377</td>\n",
       "      <td>0.008617</td>\n",
       "    </tr>\n",
       "    <tr>\n",
       "      <th>2021-08-31 20:00:00</th>\n",
       "      <td>0.810818</td>\n",
       "      <td>-86.833769</td>\n",
       "      <td>-0.000953</td>\n",
       "      <td>-0.037338</td>\n",
       "      <td>-6.240140</td>\n",
       "      <td>-43.158954</td>\n",
       "      <td>-584.477719</td>\n",
       "      <td>-0.001941</td>\n",
       "      <td>-0.001009</td>\n",
       "      <td>0.005299</td>\n",
       "    </tr>\n",
       "    <tr>\n",
       "      <th>2021-08-31 21:00:00</th>\n",
       "      <td>0.809709</td>\n",
       "      <td>5.536751</td>\n",
       "      <td>-0.000221</td>\n",
       "      <td>0.005774</td>\n",
       "      <td>2.284864</td>\n",
       "      <td>13.983903</td>\n",
       "      <td>659.504119</td>\n",
       "      <td>0.000280</td>\n",
       "      <td>-0.004976</td>\n",
       "      <td>-0.007585</td>\n",
       "    </tr>\n",
       "  </tbody>\n",
       "</table>\n",
       "</div>"
      ],
      "text/plain": [
       "                                 ADX         CCI      MACD       MOM  \\\n",
       "ZRXUSD 2021-08-31 16:00:00 -1.229295   55.308290  0.000374 -0.028487   \n",
       "       2021-08-31 17:00:00  1.617878 -233.488907 -0.002047 -0.020999   \n",
       "       2021-08-31 18:00:00  1.574198    3.088088 -0.000474  0.004499   \n",
       "       2021-08-31 20:00:00  0.810818  -86.833769 -0.000953 -0.037338   \n",
       "       2021-08-31 21:00:00  0.809709    5.536751 -0.000221  0.005774   \n",
       "\n",
       "                                  RSI      WILLR           OBV  Regression  \\\n",
       "ZRXUSD 2021-08-31 16:00:00  -0.308111  -4.960901   -817.377805   -0.000633   \n",
       "       2021-08-31 17:00:00 -12.906242 -86.915152 -24675.373065   -0.000988   \n",
       "       2021-08-31 18:00:00   5.266338  34.330896   2736.395830   -0.000385   \n",
       "       2021-08-31 20:00:00  -6.240140 -43.158954   -584.477719   -0.001941   \n",
       "       2021-08-31 21:00:00   2.284864  13.983903    659.504119    0.000280   \n",
       "\n",
       "                            Volatility    Return  \n",
       "ZRXUSD 2021-08-31 16:00:00    0.000219 -0.031127  \n",
       "       2021-08-31 17:00:00    0.005632  0.012682  \n",
       "       2021-08-31 18:00:00   -0.000377  0.008617  \n",
       "       2021-08-31 20:00:00   -0.001009  0.005299  \n",
       "       2021-08-31 21:00:00   -0.004976 -0.007585  "
      ]
     },
     "execution_count": 9,
     "metadata": {},
     "output_type": "execute_result"
    }
   ],
   "source": [
    "# set parameters\n",
    "params = {'ADX': {'window': 10}, 'CCI': {'window': 10}, 'MACD': {'fast': 12, 'slow': 26, 'signal': 9}, \n",
    "          'MOM': {'window': 5}, 'RSI': {'window': 10}, 'WILLR': {'window': 10}, 'OBV': {}, \n",
    "          'Regression': {'window': 10}, 'Volatility': {'window': 5, 'nbdev': 1}}\n",
    "\n",
    "modelTA = {}\n",
    "btTA = {}\n",
    "\n",
    "for ticker in data_model.index.get_level_values(0).unique():\n",
    "    # get features\n",
    "    # take log difference for better stationary\n",
    "    modelTA[ticker] = Indicators().pool(data_model.loc[ticker], params=params).diff()\n",
    "    modelTA[ticker] = modelTA[ticker].loc[samples[ticker]]\n",
    "    btTA[ticker] = Indicators().pool(data_bt.loc[ticker], params=params).diff()\n",
    "    \n",
    "    # get targets\n",
    "    modelTA[ticker]['Return'] = data_model.close.loc[ticker].pct_change().shift(-1).loc[samples[ticker]]\n",
    "\n",
    "modelTA = pd.concat(modelTA, axis = 0).dropna()\n",
    "btTA = pd.concat(btTA, axis = 0).dropna()\n",
    "modelTA.tail()"
   ]
  },
  {
   "cell_type": "markdown",
   "metadata": {},
   "source": [
    "### Return Forecast: Random Forest"
   ]
  },
  {
   "cell_type": "code",
   "execution_count": 10,
   "metadata": {},
   "outputs": [],
   "source": [
    "# split data into training and testing sets\n",
    "split_date = '2021-05-01'\n",
    "\n",
    "training_x = modelTA.loc[modelTA.index.get_level_values(1) < split_date].iloc[:, :-1]\n",
    "training_y = modelTA.loc[modelTA.index.get_level_values(1) < split_date, 'Return']\n",
    "testing_x = modelTA.loc[modelTA.index.get_level_values(1) >= split_date].iloc[:, :-1]\n",
    "testing_y = modelTA.loc[modelTA.index.get_level_values(1) >= split_date, 'Return']"
   ]
  },
  {
   "cell_type": "code",
   "execution_count": 11,
   "metadata": {},
   "outputs": [
    {
     "data": {
      "text/plain": [
       "(10341, 6718)"
      ]
     },
     "execution_count": 11,
     "metadata": {},
     "output_type": "execute_result"
    }
   ],
   "source": [
    "training_x.shape[0], testing_x.shape[0]"
   ]
  },
  {
   "cell_type": "code",
   "execution_count": 12,
   "metadata": {},
   "outputs": [],
   "source": [
    "RF = random_forest()\n",
    "model1 = RF.one_fold_RF(training_x, training_y)"
   ]
  },
  {
   "cell_type": "code",
   "execution_count": 13,
   "metadata": {},
   "outputs": [
    {
     "data": {
      "text/plain": [
       "-0.06859767276527462"
      ]
     },
     "execution_count": 13,
     "metadata": {},
     "output_type": "execute_result"
    }
   ],
   "source": [
    "model1.score(testing_x, testing_y)"
   ]
  },
  {
   "cell_type": "markdown",
   "metadata": {},
   "source": [
    "### Signald\n",
    "Strategy Rules: compare prediction with threshold\n",
    "\n",
    "* Use rolling Mean +/- Standard Deviation of realized returns as the dynamic threshold\n",
    "* when prediction is larger than the threshold, open long position\n",
    "* when prediction is lower than the negative threshold, open short position\n",
    "* always 100% invest\n",
    "* Use rolling window to avoid look ahead bias"
   ]
  },
  {
   "cell_type": "code",
   "execution_count": 14,
   "metadata": {},
   "outputs": [
    {
     "data": {
      "text/html": [
       "<div>\n",
       "<style scoped>\n",
       "    .dataframe tbody tr th:only-of-type {\n",
       "        vertical-align: middle;\n",
       "    }\n",
       "\n",
       "    .dataframe tbody tr th {\n",
       "        vertical-align: top;\n",
       "    }\n",
       "\n",
       "    .dataframe thead th {\n",
       "        text-align: right;\n",
       "    }\n",
       "</style>\n",
       "<table border=\"1\" class=\"dataframe\">\n",
       "  <thead>\n",
       "    <tr style=\"text-align: right;\">\n",
       "      <th>level_0</th>\n",
       "      <th>BATUSD</th>\n",
       "      <th>BTCUSD</th>\n",
       "      <th>ETHUSD</th>\n",
       "      <th>FILUSD</th>\n",
       "      <th>MKRUSD</th>\n",
       "      <th>UNIUSD</th>\n",
       "      <th>ZRXUSD</th>\n",
       "    </tr>\n",
       "    <tr>\n",
       "      <th>date</th>\n",
       "      <th></th>\n",
       "      <th></th>\n",
       "      <th></th>\n",
       "      <th></th>\n",
       "      <th></th>\n",
       "      <th></th>\n",
       "      <th></th>\n",
       "    </tr>\n",
       "  </thead>\n",
       "  <tbody>\n",
       "    <tr>\n",
       "      <th>2021-09-02 10:00:00</th>\n",
       "      <td>0.000282</td>\n",
       "      <td>-0.001961</td>\n",
       "      <td>-0.001521</td>\n",
       "      <td>0.003655</td>\n",
       "      <td>-0.001655</td>\n",
       "      <td>0.001293</td>\n",
       "      <td>0.000741</td>\n",
       "    </tr>\n",
       "    <tr>\n",
       "      <th>2021-09-02 11:00:00</th>\n",
       "      <td>0.002121</td>\n",
       "      <td>-0.000151</td>\n",
       "      <td>-0.002042</td>\n",
       "      <td>-0.002154</td>\n",
       "      <td>-0.002281</td>\n",
       "      <td>0.007656</td>\n",
       "      <td>-0.000245</td>\n",
       "    </tr>\n",
       "    <tr>\n",
       "      <th>2021-09-02 12:00:00</th>\n",
       "      <td>0.002984</td>\n",
       "      <td>-0.003047</td>\n",
       "      <td>-0.001965</td>\n",
       "      <td>0.004932</td>\n",
       "      <td>-0.002903</td>\n",
       "      <td>-0.000156</td>\n",
       "      <td>0.000852</td>\n",
       "    </tr>\n",
       "    <tr>\n",
       "      <th>2021-09-02 13:00:00</th>\n",
       "      <td>0.000544</td>\n",
       "      <td>0.001014</td>\n",
       "      <td>0.000561</td>\n",
       "      <td>-0.006702</td>\n",
       "      <td>0.001421</td>\n",
       "      <td>0.000609</td>\n",
       "      <td>0.004503</td>\n",
       "    </tr>\n",
       "    <tr>\n",
       "      <th>2021-09-02 14:00:00</th>\n",
       "      <td>0.001942</td>\n",
       "      <td>0.000063</td>\n",
       "      <td>-0.002116</td>\n",
       "      <td>-0.000199</td>\n",
       "      <td>-0.006080</td>\n",
       "      <td>-0.002245</td>\n",
       "      <td>-0.000856</td>\n",
       "    </tr>\n",
       "  </tbody>\n",
       "</table>\n",
       "</div>"
      ],
      "text/plain": [
       "level_0                BATUSD    BTCUSD    ETHUSD    FILUSD    MKRUSD  \\\n",
       "date                                                                    \n",
       "2021-09-02 10:00:00  0.000282 -0.001961 -0.001521  0.003655 -0.001655   \n",
       "2021-09-02 11:00:00  0.002121 -0.000151 -0.002042 -0.002154 -0.002281   \n",
       "2021-09-02 12:00:00  0.002984 -0.003047 -0.001965  0.004932 -0.002903   \n",
       "2021-09-02 13:00:00  0.000544  0.001014  0.000561 -0.006702  0.001421   \n",
       "2021-09-02 14:00:00  0.001942  0.000063 -0.002116 -0.000199 -0.006080   \n",
       "\n",
       "level_0                UNIUSD    ZRXUSD  \n",
       "date                                     \n",
       "2021-09-02 10:00:00  0.001293  0.000741  \n",
       "2021-09-02 11:00:00  0.007656 -0.000245  \n",
       "2021-09-02 12:00:00 -0.000156  0.000852  \n",
       "2021-09-02 13:00:00  0.000609  0.004503  \n",
       "2021-09-02 14:00:00 -0.002245 -0.000856  "
      ]
     },
     "execution_count": 14,
     "metadata": {},
     "output_type": "execute_result"
    }
   ],
   "source": [
    "# backtest prediction\n",
    "bt_pred = pd.DataFrame(model1.predict(btTA), index = btTA.index, columns=['Predict_Return'])\n",
    "bt_pred = bt_pred.reset_index(level = 0).pivot(columns = 'level_0', values = 'Predict_Return')\n",
    "bt_pred.head()"
   ]
  },
  {
   "cell_type": "code",
   "execution_count": 15,
   "metadata": {},
   "outputs": [
    {
     "data": {
      "text/html": [
       "<div>\n",
       "<style scoped>\n",
       "    .dataframe tbody tr th:only-of-type {\n",
       "        vertical-align: middle;\n",
       "    }\n",
       "\n",
       "    .dataframe tbody tr th {\n",
       "        vertical-align: top;\n",
       "    }\n",
       "\n",
       "    .dataframe thead th {\n",
       "        text-align: right;\n",
       "    }\n",
       "</style>\n",
       "<table border=\"1\" class=\"dataframe\">\n",
       "  <thead>\n",
       "    <tr style=\"text-align: right;\">\n",
       "      <th></th>\n",
       "      <th>Number of Trades</th>\n",
       "    </tr>\n",
       "    <tr>\n",
       "      <th>level_0</th>\n",
       "      <th></th>\n",
       "    </tr>\n",
       "  </thead>\n",
       "  <tbody>\n",
       "    <tr>\n",
       "      <th>BATUSD</th>\n",
       "      <td>46</td>\n",
       "    </tr>\n",
       "    <tr>\n",
       "      <th>BTCUSD</th>\n",
       "      <td>182</td>\n",
       "    </tr>\n",
       "    <tr>\n",
       "      <th>ETHUSD</th>\n",
       "      <td>79</td>\n",
       "    </tr>\n",
       "    <tr>\n",
       "      <th>FILUSD</th>\n",
       "      <td>87</td>\n",
       "    </tr>\n",
       "    <tr>\n",
       "      <th>MKRUSD</th>\n",
       "      <td>49</td>\n",
       "    </tr>\n",
       "    <tr>\n",
       "      <th>UNIUSD</th>\n",
       "      <td>57</td>\n",
       "    </tr>\n",
       "    <tr>\n",
       "      <th>ZRXUSD</th>\n",
       "      <td>39</td>\n",
       "    </tr>\n",
       "  </tbody>\n",
       "</table>\n",
       "</div>"
      ],
      "text/plain": [
       "         Number of Trades\n",
       "level_0                  \n",
       "BATUSD                 46\n",
       "BTCUSD                182\n",
       "ETHUSD                 79\n",
       "FILUSD                 87\n",
       "MKRUSD                 49\n",
       "UNIUSD                 57\n",
       "ZRXUSD                 39"
      ]
     },
     "execution_count": 15,
     "metadata": {},
     "output_type": "execute_result"
    }
   ],
   "source": [
    "# realized returns\n",
    "realR = data_bt.reset_index(level=0).pivot(columns='level_0', \n",
    "                                           values='close').pct_change().align(bt_pred, join='right', axis=0)[0]\n",
    "rollmean = realR.rolling(10).mean()\n",
    "rollstd = realR.rolling(10).std()\n",
    "\n",
    "# generate signals\n",
    "signals_date = pd.DataFrame(np.where(bt_pred>rollmean+rollstd, 1, 0),\n",
    "                            index = bt_pred.index, columns=bt_pred.columns)\\\n",
    "               + \\\n",
    "               pd.DataFrame(np.where(bt_pred<rollmean-rollstd, -1, 0),\n",
    "                              index = bt_pred.index, columns=bt_pred.columns)\n",
    "signals_date = signals_date.replace(0, np.nan).ffill()\n",
    "\n",
    "# how many trades\n",
    "(signals_date.dropna().diff()!=0).sum().to_frame(name = 'Number of Trades')"
   ]
  },
  {
   "cell_type": "markdown",
   "metadata": {},
   "source": [
    "### Portfolio Optimization\n",
    "Now we have to determine the portfolio weight\n",
    "* Minimum-variance optimization\n",
    "* Start with historical covariance matrix\n",
    "* Rebalance every week"
   ]
  },
  {
   "cell_type": "code",
   "execution_count": 25,
   "metadata": {},
   "outputs": [
    {
     "data": {
      "text/html": [
       "<div>\n",
       "<style scoped>\n",
       "    .dataframe tbody tr th:only-of-type {\n",
       "        vertical-align: middle;\n",
       "    }\n",
       "\n",
       "    .dataframe tbody tr th {\n",
       "        vertical-align: top;\n",
       "    }\n",
       "\n",
       "    .dataframe thead th {\n",
       "        text-align: right;\n",
       "    }\n",
       "</style>\n",
       "<table border=\"1\" class=\"dataframe\">\n",
       "  <thead>\n",
       "    <tr style=\"text-align: right;\">\n",
       "      <th>level_0</th>\n",
       "      <th>BATUSD</th>\n",
       "      <th>BTCUSD</th>\n",
       "      <th>ETHUSD</th>\n",
       "      <th>FILUSD</th>\n",
       "      <th>MKRUSD</th>\n",
       "      <th>UNIUSD</th>\n",
       "      <th>ZRXUSD</th>\n",
       "    </tr>\n",
       "    <tr>\n",
       "      <th>date</th>\n",
       "      <th></th>\n",
       "      <th></th>\n",
       "      <th></th>\n",
       "      <th></th>\n",
       "      <th></th>\n",
       "      <th></th>\n",
       "      <th></th>\n",
       "    </tr>\n",
       "  </thead>\n",
       "  <tbody>\n",
       "    <tr>\n",
       "      <th>2021-09-05 00:00:00</th>\n",
       "      <td>1.405672e-16</td>\n",
       "      <td>0.651628</td>\n",
       "      <td>0.1779</td>\n",
       "      <td>0.035966</td>\n",
       "      <td>0.111223</td>\n",
       "      <td>0.023284</td>\n",
       "      <td>-3.285586e-16</td>\n",
       "    </tr>\n",
       "    <tr>\n",
       "      <th>2021-09-05 01:00:00</th>\n",
       "      <td>1.405672e-16</td>\n",
       "      <td>0.651628</td>\n",
       "      <td>0.1779</td>\n",
       "      <td>0.035966</td>\n",
       "      <td>0.111223</td>\n",
       "      <td>0.023284</td>\n",
       "      <td>-3.285586e-16</td>\n",
       "    </tr>\n",
       "    <tr>\n",
       "      <th>2021-09-05 02:00:00</th>\n",
       "      <td>1.405672e-16</td>\n",
       "      <td>0.651628</td>\n",
       "      <td>0.1779</td>\n",
       "      <td>0.035966</td>\n",
       "      <td>0.111223</td>\n",
       "      <td>0.023284</td>\n",
       "      <td>-3.285586e-16</td>\n",
       "    </tr>\n",
       "    <tr>\n",
       "      <th>2021-09-05 03:00:00</th>\n",
       "      <td>1.405672e-16</td>\n",
       "      <td>0.651628</td>\n",
       "      <td>0.1779</td>\n",
       "      <td>0.035966</td>\n",
       "      <td>0.111223</td>\n",
       "      <td>0.023284</td>\n",
       "      <td>-3.285586e-16</td>\n",
       "    </tr>\n",
       "    <tr>\n",
       "      <th>2021-09-05 04:00:00</th>\n",
       "      <td>1.405672e-16</td>\n",
       "      <td>0.651628</td>\n",
       "      <td>0.1779</td>\n",
       "      <td>0.035966</td>\n",
       "      <td>0.111223</td>\n",
       "      <td>0.023284</td>\n",
       "      <td>-3.285586e-16</td>\n",
       "    </tr>\n",
       "  </tbody>\n",
       "</table>\n",
       "</div>"
      ],
      "text/plain": [
       "level_0                    BATUSD    BTCUSD  ETHUSD    FILUSD    MKRUSD  \\\n",
       "date                                                                      \n",
       "2021-09-05 00:00:00  1.405672e-16  0.651628  0.1779  0.035966  0.111223   \n",
       "2021-09-05 01:00:00  1.405672e-16  0.651628  0.1779  0.035966  0.111223   \n",
       "2021-09-05 02:00:00  1.405672e-16  0.651628  0.1779  0.035966  0.111223   \n",
       "2021-09-05 03:00:00  1.405672e-16  0.651628  0.1779  0.035966  0.111223   \n",
       "2021-09-05 04:00:00  1.405672e-16  0.651628  0.1779  0.035966  0.111223   \n",
       "\n",
       "level_0                UNIUSD        ZRXUSD  \n",
       "date                                         \n",
       "2021-09-05 00:00:00  0.023284 -3.285586e-16  \n",
       "2021-09-05 01:00:00  0.023284 -3.285586e-16  \n",
       "2021-09-05 02:00:00  0.023284 -3.285586e-16  \n",
       "2021-09-05 03:00:00  0.023284 -3.285586e-16  \n",
       "2021-09-05 04:00:00  0.023284 -3.285586e-16  "
      ]
     },
     "execution_count": 25,
     "metadata": {},
     "output_type": "execute_result"
    }
   ],
   "source": [
    "opt = portfolio_optimizer()\n",
    "weights = realR.resample('W').apply(lambda x: pd.Series(opt.mvp(opt.getCovMat(x))))\n",
    "weights = weights.resample('D').ffill().align(signals_date, join = 'right', axis = 0)[0].ffill()\n",
    "weights.columns = signals_date.columns\n",
    "weights.dropna().head()"
   ]
  },
  {
   "cell_type": "code",
   "execution_count": 26,
   "metadata": {},
   "outputs": [],
   "source": [
    "# real portfolio weights\n",
    "portfolio_weights = weights.mul(signals_date)"
   ]
  },
  {
   "cell_type": "markdown",
   "metadata": {},
   "source": [
    "### Backtest"
   ]
  },
  {
   "cell_type": "code",
   "execution_count": null,
   "metadata": {},
   "outputs": [],
   "source": [
    "s = bt.Strategy('pair trading', [bt.algos.RunEveryNPeriods(1),\n",
    "                       bt.algos.SelectAll(),\n",
    "                       bt.algos.WeighTarget(signal),\n",
    "                       bt.algos.Rebalance()])\n",
    "\n",
    "test = bt.Backtest(s, df.loc[signal.index, ['zec/eth/btc', 'zec/btc']])\n",
    "res = bt.run(test)"
   ]
  },
  {
   "cell_type": "code",
   "execution_count": 8,
   "metadata": {},
   "outputs": [],
   "source": [
    "Indicators().vol(data.loc['BTCUSD'])"
   ]
  },
  {
   "cell_type": "code",
   "execution_count": null,
   "metadata": {},
   "outputs": [],
   "source": [
    "res.display()"
   ]
  }
 ],
 "metadata": {
  "kernelspec": {
   "display_name": "Python 3",
   "language": "python",
   "name": "python3"
  },
  "language_info": {
   "codemirror_mode": {
    "name": "ipython",
    "version": 3
   },
   "file_extension": ".py",
   "mimetype": "text/x-python",
   "name": "python",
   "nbconvert_exporter": "python",
   "pygments_lexer": "ipython3",
   "version": "3.8.3"
  },
  "vscode": {
   "interpreter": {
    "hash": "b09ec625f77bf4fd762565a912b97636504ad6ec901eb2d0f4cf5a7de23e1ee5"
   }
  }
 },
 "nbformat": 4,
 "nbformat_minor": 4
}
