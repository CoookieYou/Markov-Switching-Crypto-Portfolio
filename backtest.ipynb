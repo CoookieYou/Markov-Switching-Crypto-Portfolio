{
 "cells": [
  {
   "cell_type": "markdown",
   "metadata": {},
   "source": [
    "# Backtest Strategy\n",
    "* Use Backtrader for event-driven backtest"
   ]
  },
  {
   "cell_type": "code",
   "execution_count": 1,
   "metadata": {},
   "outputs": [],
   "source": [
    "import pandas as pd\n",
    "import numpy as np\n",
    "import matplotlib\n",
    "matplotlib.use('TkAgg')\n",
    "import matplotlib.pyplot as plt\n",
    "import seaborn as sns\n",
    "\n",
    "from feature_engineering import Indicators\n",
    "from portfolio_optimizer import portfolio_optimizer\n",
    "from data_sampler import data_manager\n",
    "from random_forest import random_forest\n",
    "from test_indicators import TestIndicators\n",
    "import bt"
   ]
  },
  {
   "cell_type": "markdown",
   "metadata": {},
   "source": [
    "### Read Data"
   ]
  },
  {
   "cell_type": "code",
   "execution_count": null,
   "metadata": {},
   "outputs": [],
   "source": [
    "# read data from local file\n",
    "data = data_manager().readPair(pairs = \"BTCUSD ETHUSD BATUSD FILUSD MKRUSD UNIUSD ZRXUSD\",\n",
    "                               start='2020-11-01', end='2021-12-31')\n",
    "data.head()"
   ]
  },
  {
   "cell_type": "code",
   "execution_count": null,
   "metadata": {},
   "outputs": [],
   "source": [
    "# Cusum filter to sample data points\n",
    "# threshold\n",
    "threshold = 0.02\n",
    "closes = data.reset_index(level=0).pivot(columns='level_0', values='close')\n",
    "\n",
    "# sampling process\n",
    "samples = data_manager().cusumFilter(closes, h = threshold)\n",
    "samples.keys()"
   ]
  },
  {
   "cell_type": "code",
   "execution_count": null,
   "metadata": {},
   "outputs": [],
   "source": [
    "pd.DataFrame([len(samples[i]) for i in samples], index = samples.keys(), columns=['count'])"
   ]
  },
  {
   "cell_type": "markdown",
   "metadata": {},
   "source": [
    "### Generate Features\n",
    "* Prediction target is the return of the next hourly bar"
   ]
  },
  {
   "cell_type": "code",
   "execution_count": null,
   "metadata": {},
   "outputs": [],
   "source": [
    "# set parameters\n",
    "params = {'ADX': {'window': 10}, 'CCI': {'window': 10}, 'MACD': {'fast': 12, 'slow': 26, 'signal': 9}, \n",
    "          'MOM': {'window': 5}, 'RSI': {'window': 10}, 'WILLR': {'window': 10}, 'OBV': {}, \n",
    "          'Regression': {'window': 10}, 'Volatility': {'window': 5, 'nbdev': 1}}\n",
    "\n",
    "TA = {}\n",
    "\n",
    "for ticker in data.index.get_level_values(0).unique():\n",
    "    # get features\n",
    "    TA[ticker] = Indicators().pool(data.loc[ticker], params=params)\n",
    "    TA[ticker] = TA[ticker].loc[samples[ticker]]\n",
    "    \n",
    "    # get targets\n",
    "    TA[ticker]['Return'] = data.close.loc[ticker].pct_change().shift(-1).loc[samples[ticker]]\n",
    "\n",
    "TA = pd.concat(TA, axis = 0)\n",
    "TA.tail()"
   ]
  },
  {
   "cell_type": "code",
   "execution_count": 15,
   "metadata": {},
   "outputs": [],
   "source": [
    "plt.figure(figsize = (20, 10))\n",
    "TA.loc['ZRXUSD'].plot()\n",
    "plt.show()"
   ]
  },
  {
   "cell_type": "code",
   "execution_count": null,
   "metadata": {},
   "outputs": [],
   "source": [
    "s = bt.Strategy('pair trading', [bt.algos.RunEveryNPeriods(1),\n",
    "                       bt.algos.SelectAll(),\n",
    "                       bt.algos.WeighTarget(signal),\n",
    "                       bt.algos.Rebalance()])\n",
    "\n",
    "test = bt.Backtest(s, df.loc[signal.index, ['zec/eth/btc', 'zec/btc']])\n",
    "res = bt.run(test)"
   ]
  },
  {
   "cell_type": "code",
   "execution_count": null,
   "metadata": {},
   "outputs": [],
   "source": []
  },
  {
   "cell_type": "code",
   "execution_count": null,
   "metadata": {},
   "outputs": [],
   "source": [
    "res.display()"
   ]
  }
 ],
 "metadata": {
  "kernelspec": {
   "display_name": "Python 3",
   "language": "python",
   "name": "python3"
  },
  "language_info": {
   "codemirror_mode": {
    "name": "ipython",
    "version": 3
   },
   "file_extension": ".py",
   "mimetype": "text/x-python",
   "name": "python",
   "nbconvert_exporter": "python",
   "pygments_lexer": "ipython3",
   "version": "3.8.3"
  },
  "vscode": {
   "interpreter": {
    "hash": "b09ec625f77bf4fd762565a912b97636504ad6ec901eb2d0f4cf5a7de23e1ee5"
   }
  }
 },
 "nbformat": 4,
 "nbformat_minor": 4
}
